{
 "cells": [
  {
   "cell_type": "code",
   "execution_count": 24,
   "metadata": {},
   "outputs": [
    {
     "name": "stdout",
     "output_type": "stream",
     "text": [
      "[[1.0 'A32' 'CTCP 32' 'Hàng tiêu dùng và trang trí' 'UPCoM' '6,800,000']\n",
      " [2.0 'AAA' 'CTCP Nhựa An Phát Xanh' 'Nguyên vật liệu' 'HOSE'\n",
      "  '382,274,496']\n",
      " [3.0 'AAH' 'CTCP Hợp Nhất' 'Năng lượng' 'UPCoM' '117,900,000']\n",
      " ...\n",
      " [3273.0 'YSC' 'CTCP Hapaco Yên Sơn' 'Nguyên vật liệu' 'OTC' '1,100,000']\n",
      " [3274.0 'YSVN' 'Công ty TNHH Chứng khoán Yuanta Việt Nam'\n",
      "  'Dịch vụ tài chính' 'Khác' '30,000,000']\n",
      " [3275.0 'ÐTPTTruongAn' 'Công ty TNHH MTV Đầu tư và Phát triển Trường An'\n",
      "  nan 'Khác' '0']]\n"
     ]
    }
   ],
   "source": [
    "# Read CSV data into a pandas DataFrame and convert to numpy array\n",
    "import pandas as pd\n",
    "import numpy as np\n",
    "import io\n",
    "\n",
    "df = pd.read_csv('dataset.csv', skiprows=2)\n",
    "header = df.columns\n",
    "# Remove unnamed columns\n",
    "df = df.loc[:, ~df.columns.str.contains('^Unnamed')]\n",
    "# Reset index\n",
    "df = df.reset_index(drop=True)\n",
    "# Convert DataFrame to numpy array\n",
    "np_array = df.to_numpy()\n",
    "print(np_array)"
   ]
  },
  {
   "cell_type": "code",
   "execution_count": 27,
   "metadata": {},
   "outputs": [
    {
     "data": {
      "text/plain": [
       "Index(['Unnamed: 0', 'Unnamed: 1', 'STT', 'Mã CK▲', 'Tên công ty', 'Ngành',\n",
       "       'Sàn', 'Khối lượng NY/ĐKGD'],\n",
       "      dtype='object')"
      ]
     },
     "execution_count": 27,
     "metadata": {},
     "output_type": "execute_result"
    }
   ],
   "source": []
  },
  {
   "cell_type": "code",
   "execution_count": 26,
   "metadata": {},
   "outputs": [
    {
     "data": {
      "text/plain": [
       "array([1.0, 'A32', 'CTCP 32', 'Hàng tiêu dùng và trang trí', 'UPCoM',\n",
       "       '6,800,000'], dtype=object)"
      ]
     },
     "execution_count": 26,
     "metadata": {},
     "output_type": "execute_result"
    }
   ],
   "source": [
    "np_array[0]"
   ]
  }
 ],
 "metadata": {
  "kernelspec": {
   "display_name": "base",
   "language": "python",
   "name": "python3"
  },
  "language_info": {
   "codemirror_mode": {
    "name": "ipython",
    "version": 3
   },
   "file_extension": ".py",
   "mimetype": "text/x-python",
   "name": "python",
   "nbconvert_exporter": "python",
   "pygments_lexer": "ipython3",
   "version": "3.11.7"
  }
 },
 "nbformat": 4,
 "nbformat_minor": 2
}
